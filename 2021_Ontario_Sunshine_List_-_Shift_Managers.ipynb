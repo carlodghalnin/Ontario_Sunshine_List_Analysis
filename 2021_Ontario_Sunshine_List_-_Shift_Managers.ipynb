{
 "cells": [
  {
   "cell_type": "markdown",
   "id": "fa26b1c3",
   "metadata": {},
   "source": [
    "Shift Managers were some of the most highly-compensated roles found in the previous analysis of the 2021 Ontario Sunshine List. It would be interesting to note the distribution and characteristics of this role which can be found in nearly every organization."
   ]
  },
  {
   "cell_type": "markdown",
   "id": "71c4039c",
   "metadata": {},
   "source": [
    "<h1>Loading data</h1>\n",
    "<a id='Loading'></a>"
   ]
  },
  {
   "cell_type": "markdown",
   "id": "f9e086ea",
   "metadata": {},
   "source": [
    "Required libraries"
   ]
  },
  {
   "cell_type": "code",
   "execution_count": 2,
   "id": "5f472a3d",
   "metadata": {},
   "outputs": [],
   "source": [
    "import pandas as pd\n",
    "from statsmodels import robust"
   ]
  },
  {
   "cell_type": "markdown",
   "id": "194ac4bb",
   "metadata": {},
   "source": [
    "Load CSV file containing [2021 Ontario Sunshine List.](https://www.ontario.ca/public-sector-salary-disclosure/2021/all-sectors-and-seconded-employees/)"
   ]
  },
  {
   "cell_type": "code",
   "execution_count": 3,
   "id": "0dee81ab",
   "metadata": {},
   "outputs": [
    {
     "data": {
      "text/html": [
       "<div>\n",
       "<style scoped>\n",
       "    .dataframe tbody tr th:only-of-type {\n",
       "        vertical-align: middle;\n",
       "    }\n",
       "\n",
       "    .dataframe tbody tr th {\n",
       "        vertical-align: top;\n",
       "    }\n",
       "\n",
       "    .dataframe thead th {\n",
       "        text-align: right;\n",
       "    }\n",
       "</style>\n",
       "<table border=\"1\" class=\"dataframe\">\n",
       "  <thead>\n",
       "    <tr style=\"text-align: right;\">\n",
       "      <th></th>\n",
       "      <th>Sector</th>\n",
       "      <th>Last Name</th>\n",
       "      <th>First Name</th>\n",
       "      <th>Salary</th>\n",
       "      <th>Benefits</th>\n",
       "      <th>Employer</th>\n",
       "      <th>Job Title</th>\n",
       "      <th>Year</th>\n",
       "      <th>_docID</th>\n",
       "    </tr>\n",
       "  </thead>\n",
       "  <tbody>\n",
       "    <tr>\n",
       "      <th>0</th>\n",
       "      <td>Colleges</td>\n",
       "      <td>Aarts</td>\n",
       "      <td>Cheri</td>\n",
       "      <td>115618.46</td>\n",
       "      <td>74.25</td>\n",
       "      <td>Fanshawe College Of Applied Arts and Technology</td>\n",
       "      <td>Professor</td>\n",
       "      <td>2021</td>\n",
       "      <td>0</td>\n",
       "    </tr>\n",
       "    <tr>\n",
       "      <th>1</th>\n",
       "      <td>Colleges</td>\n",
       "      <td>Aaslepp</td>\n",
       "      <td>Drew</td>\n",
       "      <td>114506.79</td>\n",
       "      <td>124.66</td>\n",
       "      <td>Humber College Institute Of Technology and Adv...</td>\n",
       "      <td>Professor</td>\n",
       "      <td>2021</td>\n",
       "      <td>1</td>\n",
       "    </tr>\n",
       "    <tr>\n",
       "      <th>2</th>\n",
       "      <td>Colleges</td>\n",
       "      <td>Abba</td>\n",
       "      <td>Corinne</td>\n",
       "      <td>106770.74</td>\n",
       "      <td>124.45</td>\n",
       "      <td>George Brown College Of Applied Arts and Techn...</td>\n",
       "      <td>Librarian</td>\n",
       "      <td>2021</td>\n",
       "      <td>2</td>\n",
       "    </tr>\n",
       "    <tr>\n",
       "      <th>3</th>\n",
       "      <td>Colleges</td>\n",
       "      <td>Abbott</td>\n",
       "      <td>Brian</td>\n",
       "      <td>107378.44</td>\n",
       "      <td>124.61</td>\n",
       "      <td>Conestoga College Institute Of Technology and ...</td>\n",
       "      <td>Professor</td>\n",
       "      <td>2021</td>\n",
       "      <td>3</td>\n",
       "    </tr>\n",
       "    <tr>\n",
       "      <th>4</th>\n",
       "      <td>Colleges</td>\n",
       "      <td>Abbott</td>\n",
       "      <td>Kathleen</td>\n",
       "      <td>162873.26</td>\n",
       "      <td>428.40</td>\n",
       "      <td>George Brown College Of Applied Arts and Techn...</td>\n",
       "      <td>Associate Dean, Centre for Continuous Learning</td>\n",
       "      <td>2021</td>\n",
       "      <td>4</td>\n",
       "    </tr>\n",
       "  </tbody>\n",
       "</table>\n",
       "</div>"
      ],
      "text/plain": [
       "     Sector Last Name First Name     Salary  Benefits  \\\n",
       "0  Colleges     Aarts      Cheri  115618.46     74.25   \n",
       "1  Colleges   Aaslepp       Drew  114506.79    124.66   \n",
       "2  Colleges      Abba    Corinne  106770.74    124.45   \n",
       "3  Colleges    Abbott      Brian  107378.44    124.61   \n",
       "4  Colleges    Abbott   Kathleen  162873.26    428.40   \n",
       "\n",
       "                                            Employer  \\\n",
       "0    Fanshawe College Of Applied Arts and Technology   \n",
       "1  Humber College Institute Of Technology and Adv...   \n",
       "2  George Brown College Of Applied Arts and Techn...   \n",
       "3  Conestoga College Institute Of Technology and ...   \n",
       "4  George Brown College Of Applied Arts and Techn...   \n",
       "\n",
       "                                        Job Title  Year  _docID  \n",
       "0                                       Professor  2021       0  \n",
       "1                                       Professor  2021       1  \n",
       "2                                       Librarian  2021       2  \n",
       "3                                       Professor  2021       3  \n",
       "4  Associate Dean, Centre for Continuous Learning  2021       4  "
      ]
     },
     "execution_count": 3,
     "metadata": {},
     "output_type": "execute_result"
    }
   ],
   "source": [
    "df = pd.read_csv('2021_sunshine.csv')\n",
    "df.head()"
   ]
  },
  {
   "cell_type": "markdown",
   "id": "b25538f4",
   "metadata": {},
   "source": [
    "Filter for Shift Manager positions."
   ]
  },
  {
   "cell_type": "code",
   "execution_count": 5,
   "id": "44554f6d",
   "metadata": {},
   "outputs": [
    {
     "data": {
      "text/html": [
       "<div>\n",
       "<style scoped>\n",
       "    .dataframe tbody tr th:only-of-type {\n",
       "        vertical-align: middle;\n",
       "    }\n",
       "\n",
       "    .dataframe tbody tr th {\n",
       "        vertical-align: top;\n",
       "    }\n",
       "\n",
       "    .dataframe thead th {\n",
       "        text-align: right;\n",
       "    }\n",
       "</style>\n",
       "<table border=\"1\" class=\"dataframe\">\n",
       "  <thead>\n",
       "    <tr style=\"text-align: right;\">\n",
       "      <th></th>\n",
       "      <th>Sector</th>\n",
       "      <th>Last Name</th>\n",
       "      <th>First Name</th>\n",
       "      <th>Salary</th>\n",
       "      <th>Benefits</th>\n",
       "      <th>Employer</th>\n",
       "      <th>Job Title</th>\n",
       "      <th>Year</th>\n",
       "      <th>_docID</th>\n",
       "    </tr>\n",
       "  </thead>\n",
       "  <tbody>\n",
       "    <tr>\n",
       "      <th>24669</th>\n",
       "      <td>Government of Ontario – Ministries</td>\n",
       "      <td>Fong</td>\n",
       "      <td>Richard</td>\n",
       "      <td>110953.96</td>\n",
       "      <td>144.24</td>\n",
       "      <td>Government and Consumer Services</td>\n",
       "      <td>Shift Manager</td>\n",
       "      <td>2021</td>\n",
       "      <td>24669</td>\n",
       "    </tr>\n",
       "    <tr>\n",
       "      <th>25919</th>\n",
       "      <td>Government of Ontario – Ministries</td>\n",
       "      <td>Haider</td>\n",
       "      <td>Mohammed</td>\n",
       "      <td>107835.28</td>\n",
       "      <td>131.84</td>\n",
       "      <td>Government and Consumer Services</td>\n",
       "      <td>Shift Manager</td>\n",
       "      <td>2021</td>\n",
       "      <td>25919</td>\n",
       "    </tr>\n",
       "    <tr>\n",
       "      <th>27629</th>\n",
       "      <td>Government of Ontario – Ministries</td>\n",
       "      <td>Kalra</td>\n",
       "      <td>Manjeet</td>\n",
       "      <td>120462.72</td>\n",
       "      <td>146.20</td>\n",
       "      <td>Government and Consumer Services</td>\n",
       "      <td>Shift Manager</td>\n",
       "      <td>2021</td>\n",
       "      <td>27629</td>\n",
       "    </tr>\n",
       "    <tr>\n",
       "      <th>56248</th>\n",
       "      <td>Hospitals &amp; Boards of Public Health</td>\n",
       "      <td>Mannil</td>\n",
       "      <td>Jacob</td>\n",
       "      <td>104112.97</td>\n",
       "      <td>0.00</td>\n",
       "      <td>Oak Valley Health</td>\n",
       "      <td>Shift Manager</td>\n",
       "      <td>2021</td>\n",
       "      <td>56248</td>\n",
       "    </tr>\n",
       "    <tr>\n",
       "      <th>124046</th>\n",
       "      <td>Ontario Power Generation</td>\n",
       "      <td>Ben-Shlomo</td>\n",
       "      <td>Ronen</td>\n",
       "      <td>333703.64</td>\n",
       "      <td>1621.44</td>\n",
       "      <td>Ontario Power Generation</td>\n",
       "      <td>Shift Manager</td>\n",
       "      <td>2021</td>\n",
       "      <td>124046</td>\n",
       "    </tr>\n",
       "  </tbody>\n",
       "</table>\n",
       "</div>"
      ],
      "text/plain": [
       "                                     Sector   Last Name First Name     Salary  \\\n",
       "24669    Government of Ontario – Ministries        Fong    Richard  110953.96   \n",
       "25919    Government of Ontario – Ministries      Haider   Mohammed  107835.28   \n",
       "27629    Government of Ontario – Ministries       Kalra    Manjeet  120462.72   \n",
       "56248   Hospitals & Boards of Public Health      Mannil      Jacob  104112.97   \n",
       "124046             Ontario Power Generation  Ben-Shlomo      Ronen  333703.64   \n",
       "\n",
       "        Benefits                          Employer      Job Title  Year  \\\n",
       "24669     144.24  Government and Consumer Services  Shift Manager  2021   \n",
       "25919     131.84  Government and Consumer Services  Shift Manager  2021   \n",
       "27629     146.20  Government and Consumer Services  Shift Manager  2021   \n",
       "56248       0.00                 Oak Valley Health  Shift Manager  2021   \n",
       "124046   1621.44          Ontario Power Generation  Shift Manager  2021   \n",
       "\n",
       "        _docID  \n",
       "24669    24669  \n",
       "25919    25919  \n",
       "27629    27629  \n",
       "56248    56248  \n",
       "124046  124046  "
      ]
     },
     "execution_count": 5,
     "metadata": {},
     "output_type": "execute_result"
    }
   ],
   "source": [
    "df = df[df['Job Title'] == 'Shift Manager']\n",
    "df.head()"
   ]
  },
  {
   "cell_type": "markdown",
   "id": "397da664",
   "metadata": {},
   "source": [
    "<h1>Trends in Shift Manager Positions</h1>\n",
    "<a id='Trends'></a>"
   ]
  },
  {
   "cell_type": "markdown",
   "id": "9708d79b",
   "metadata": {},
   "source": [
    "36 candidates found in list."
   ]
  },
  {
   "cell_type": "code",
   "execution_count": 6,
   "id": "5c961872",
   "metadata": {},
   "outputs": [
    {
     "data": {
      "text/plain": [
       "(36, 9)"
      ]
     },
     "execution_count": 6,
     "metadata": {},
     "output_type": "execute_result"
    }
   ],
   "source": [
    "df.shape"
   ]
  },
  {
   "cell_type": "markdown",
   "id": "456cf0ce",
   "metadata": {},
   "source": [
    "Most shift managers earned salaries in the range of $300-350k."
   ]
  },
  {
   "cell_type": "code",
   "execution_count": 7,
   "id": "6394abb0",
   "metadata": {},
   "outputs": [
    {
     "data": {
      "text/plain": [
       "<AxesSubplot:title={'center':'Distribution of Shift Manager Salaries in the 2021 Ontario Sunshine List'}, ylabel='Frequency'>"
      ]
     },
     "execution_count": 7,
     "metadata": {},
     "output_type": "execute_result"
    },
    {
     "data": {
      "image/png": "[encoded data removed]",
      "text/plain": [
       "<Figure size 936x540 with 1 Axes>"
      ]
     },
     "metadata": {
      "needs_background": "light"
     },
     "output_type": "display_data"
    }
   ],
   "source": [
    "df['Salary'].plot.hist(\n",
    "    bins=20,\n",
    "    logy=False,\n",
    "    title='Distribution of Shift Manager Salaries in the 2021 Ontario Sunshine List',\n",
    "    xlabel='Salary Value in Millions of Canadian Dollars',\n",
    "    figsize=(13,7.5))"
   ]
  },
  {
   "cell_type": "markdown",
   "id": "4c35f4d3",
   "metadata": {},
   "source": [
    "**Sectors with the largest number of shift managers**"
   ]
  },
  {
   "cell_type": "markdown",
   "id": "d32fb8bf",
   "metadata": {},
   "source": [
    "The vast majority of shift managers work for OPG."
   ]
  },
  {
   "cell_type": "code",
   "execution_count": 8,
   "id": "3b95997e",
   "metadata": {},
   "outputs": [
    {
     "data": {
      "text/plain": [
       "<AxesSubplot:title={'center':'Proportion of 2021 Ontario Sunshine List Shift Managers by Sector'}, ylabel='Sector'>"
      ]
     },
     "execution_count": 8,
     "metadata": {},
     "output_type": "execute_result"
    },
    {
     "data": {
      "image/png": "[encoded data removed]",
      "text/plain": [
       "<Figure size 936x540 with 1 Axes>"
      ]
     },
     "metadata": {},
     "output_type": "display_data"
    }
   ],
   "source": [
    "sectors = df['Sector'].value_counts()\n",
    "\n",
    "sectors.plot.pie(\n",
    "    autopct='%1.1f%%',\n",
    "    startangle=0,\n",
    "    title='Proportion of 2021 Ontario Sunshine List Shift Managers by Sector', \n",
    "    figsize=(13,7.5))"
   ]
  },
  {
   "cell_type": "markdown",
   "id": "65d57cf4",
   "metadata": {},
   "source": [
    "**Sectors by highest median Shift Manager salary**\n",
    "<a id='Sectors1'></a>"
   ]
  },
  {
   "cell_type": "markdown",
   "id": "10befa0c",
   "metadata": {},
   "source": [
    "Shift managers who earn above $100k seem to work primarily for OPG."
   ]
  },
  {
   "cell_type": "code",
   "execution_count": 10,
   "id": "2f83dc8f",
   "metadata": {},
   "outputs": [
    {
     "data": {
      "text/plain": [
       "<AxesSubplot:title={'center':'2021 Ontario Sunshine List Sectors by Median Shift Manager Salary'}, xlabel='Sector'>"
      ]
     },
     "execution_count": 10,
     "metadata": {},
     "output_type": "execute_result"
    },
    {
     "data": {
      "image/png": "[encoded data removed]",
      "text/plain": [
       "<Figure size 936x540 with 1 Axes>"
      ]
     },
     "metadata": {
      "needs_background": "light"
     },
     "output_type": "display_data"
    }
   ],
   "source": [
    "smed = df.groupby('Sector', as_index=False)['Salary'].median()\n",
    "smed.sort_values(by='Salary', ascending=False, inplace=True)\n",
    "\n",
    "serr = df.groupby('Sector')['Salary'].apply(robust.mad)\n",
    "\n",
    "smed.plot.bar(\n",
    "    'Sector', \n",
    "    'Salary', \n",
    "    yerr = serr,\n",
    "    title='2021 Ontario Sunshine List Sectors by Median Shift Manager Salary',\n",
    "    figsize=(13,7.5))"
   ]
  },
  {
   "cell_type": "markdown",
   "id": "48ae564b",
   "metadata": {},
   "source": [
    "**Employers with the highest Shift Manager salaries**\n",
    "<a id='Employers2'></a>"
   ]
  },
  {
   "cell_type": "markdown",
   "id": "149bc101",
   "metadata": {},
   "source": [
    "OPG's status as the top Shift Manager compensator is confirmed by an analysis of employers. Only 5 organizations had Shift Mananger positions."
   ]
  },
  {
   "cell_type": "code",
   "execution_count": 13,
   "id": "54eded16",
   "metadata": {},
   "outputs": [
    {
     "data": {
      "text/plain": [
       "<AxesSubplot:title={'center':'Top 2021 Ontario Sunshine List Employers by Shift Manager Salary'}, xlabel='Employer'>"
      ]
     },
     "execution_count": 13,
     "metadata": {},
     "output_type": "execute_result"
    },
    {
     "data": {
      "image/png": "[encoded data removed]",
      "text/plain": [
       "<Figure size 936x540 with 1 Axes>"
      ]
     },
     "metadata": {
      "needs_background": "light"
     },
     "output_type": "display_data"
    }
   ],
   "source": [
    "topemployers = df.groupby('Employer')['Salary']\\\n",
    "    .median().sort_values(ascending=False)\n",
    "\n",
    "eerr = df.groupby('Employer')['Salary'].apply(robust.mad)\n",
    "\n",
    "topemployers.plot.bar(\n",
    "    yerr=eerr,\n",
    "    title='Top 2021 Ontario Sunshine List Employers by Shift Manager Salary',\n",
    "    figsize=(13,7.5))"
   ]
  }
 ],
 "metadata": {
  "kernelspec": {
   "display_name": "Python 3",
   "language": "python",
   "name": "python3"
  },
  "language_info": {
   "codemirror_mode": {
    "name": "ipython",
    "version": 3
   },
   "file_extension": ".py",
   "mimetype": "text/x-python",
   "name": "python",
   "nbconvert_exporter": "python",
   "pygments_lexer": "ipython3",
   "version": "3.8.8"
  }
 },
 "nbformat": 4,
 "nbformat_minor": 5
}
